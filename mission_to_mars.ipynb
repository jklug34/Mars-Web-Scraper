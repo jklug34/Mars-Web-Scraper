{
 "cells": [
  {
   "cell_type": "code",
   "execution_count": 1,
   "metadata": {},
   "outputs": [],
   "source": [
    "# Dependencies\n",
    "import os\n",
    "import pandas as pd\n",
    "from bs4 import BeautifulSoup as bs\n",
    "import requests\n",
    "import pymongo\n",
    "from splinter import Browser\n",
    "from selenium import webdriver\n",
    "from splinter.exceptions import ElementDoesNotExist\n",
    "import time\n",
    "from time import sleep"
   ]
  },
  {
   "cell_type": "code",
   "execution_count": 2,
   "metadata": {},
   "outputs": [],
   "source": [
    "executable_path = {\"executable_path\": 'chromedriver'}\n",
    "browser = Browser(\"chrome\", **executable_path, headless=False)"
   ]
  },
  {
   "cell_type": "markdown",
   "metadata": {},
   "source": [
    "## NASA Mars News"
   ]
  },
  {
   "cell_type": "code",
   "execution_count": 3,
   "metadata": {},
   "outputs": [],
   "source": [
    "url = 'https://mars.nasa.gov/news/'\n",
    "browser.visit(url)\n",
    "# bottom image load first in the same div, then these react text ul class= \"item_list\" and li class+\"slide\" load so we need a way to pause until the whole page is loaded\n",
    "browser.is_element_present_by_css(\"ul.item_list li.slide\", wait_time=1)\n",
    "# use splinter to grab html\n",
    "html = browser.html\n",
    "soup = bs(html, 'html.parser')"
   ]
  },
  {
   "cell_type": "code",
   "execution_count": 4,
   "metadata": {},
   "outputs": [],
   "source": [
    "#print(soup.prettify())"
   ]
  },
  {
   "cell_type": "code",
   "execution_count": 5,
   "metadata": {},
   "outputs": [
    {
     "name": "stdout",
     "output_type": "stream",
     "text": [
      "A Rover Pit Stop at JPL\n",
      "Working like a finely honed machine, a team of engineers in this time-lapse video clip install test wheels on another finely honed machine: NASA's Mars 2020 rover.\n"
     ]
    }
   ],
   "source": [
    "# Scrape the [NASA Mars News Site](https://mars.nasa.gov/news/) and collect the latest News Title and Paragraph Text. Assign the text to variables that you can reference later.\n",
    "news_title = soup.find('div', class_=\"content_title\").get_text()\n",
    "news_paragraph = soup.find('div', class_=\"article_teaser_body\").get_text()\n",
    "\n",
    "print(news_title)\n",
    "print(news_paragraph)"
   ]
  },
  {
   "cell_type": "markdown",
   "metadata": {},
   "source": [
    "## JPL Space Featured Image"
   ]
  },
  {
   "cell_type": "code",
   "execution_count": 6,
   "metadata": {},
   "outputs": [],
   "source": [
    "# Visit the url for JPL Featured Space Image [here](https://www.jpl.nasa.gov/spaceimages/?search=&category=Mars).\n",
    "# Use splinter to navigate the site and find the image url for the current Featured Mars Image and assign the url string to a variable called `featured_image_url`.\n",
    "# Make sure to find the image url to the full size `.jpg` image.\n",
    "# Make sure to save a complete url string for this image.\n",
    "\n",
    "jpl_url = 'https://www.jpl.nasa.gov/spaceimages/?search=&category=Mars'\n",
    "browser.visit(jpl_url)\n",
    "#jpl_html = browser.html\n",
    "#jpl_soup = bs(jpl_html, \"lxml\")"
   ]
  },
  {
   "cell_type": "code",
   "execution_count": 7,
   "metadata": {},
   "outputs": [],
   "source": [
    "# splinter click first 'full image' button\n",
    "full_image_elem = browser.find_by_id('full_image')\n",
    "full_image_elem.click()"
   ]
  },
  {
   "cell_type": "code",
   "execution_count": 8,
   "metadata": {},
   "outputs": [],
   "source": [
    "## splinter click first 'more info' button\n",
    "browser.is_element_present_by_text('more info   ', wait_time=2)\n",
    "more_info_elem = browser.find_link_by_partial_text('more info')"
   ]
  },
  {
   "cell_type": "code",
   "execution_count": 9,
   "metadata": {},
   "outputs": [],
   "source": [
    "more_info_elem.click()"
   ]
  },
  {
   "cell_type": "code",
   "execution_count": 10,
   "metadata": {},
   "outputs": [],
   "source": [
    "jpl_html = browser.html\n",
    "jpl_soup = bs(jpl_html, \"lxml\")"
   ]
  },
  {
   "cell_type": "code",
   "execution_count": 11,
   "metadata": {},
   "outputs": [
    {
     "data": {
      "text/plain": [
       "'/spaceimages/images/largesize/PIA18049_hires.jpg'"
      ]
     },
     "execution_count": 11,
     "metadata": {},
     "output_type": "execute_result"
    }
   ],
   "source": [
    "img_url_rel = jpl_soup.select_one('figure.lede a img').get(\"src\")\n",
    "img_url_rel"
   ]
  },
  {
   "cell_type": "code",
   "execution_count": 12,
   "metadata": {},
   "outputs": [
    {
     "name": "stdout",
     "output_type": "stream",
     "text": [
      "https://www.jpl.nasa.gov/spaceimages/images/largesize/PIA18049_hires.jpg\n"
     ]
    }
   ],
   "source": [
    "featured_image_url = f'https://www.jpl.nasa.gov{img_url_rel}'\n",
    "print(str(featured_image_url))"
   ]
  },
  {
   "cell_type": "markdown",
   "metadata": {},
   "source": [
    "## Mars Twitter"
   ]
  },
  {
   "cell_type": "code",
   "execution_count": 13,
   "metadata": {},
   "outputs": [],
   "source": [
    "# * Visit the Mars Weather twitter account [here](https://twitter.com/marswxreport?lang=en) and scrape the latest Mars weather tweet from the page. Save the tweet text for the weather report as a variable called `mars_weather`.\n",
    "twitter_url = 'https://twitter.com/marswxreport?lang=en'\n",
    "browser.visit(twitter_url)\n",
    "twitter_html = browser.html\n",
    "twitter_soup = bs(twitter_html, \"lxml\")"
   ]
  },
  {
   "cell_type": "code",
   "execution_count": 14,
   "metadata": {},
   "outputs": [
    {
     "name": "stdout",
     "output_type": "stream",
     "text": [
      "<div class=\"js-tweet-text-container\">\n",
      "<p class=\"TweetTextSize TweetTextSize--normal js-tweet-text tweet-text\" data-aria-label-part=\"0\" lang=\"en\">The <a class=\"twitter-hashtag pretty-link js-nav\" data-query-source=\"hashtag_click\" dir=\"ltr\" href=\"/hashtag/Mars2020?src=hash\"><s>#</s><b>Mars2020</b></a> rover gets her wheels from the pit crew with PhDs\n",
      "<a class=\"twitter-timeline-link\" data-expanded-url=\"https://mars.nasa.gov/mars2020/mission/where-is-the-rover/\" dir=\"ltr\" href=\"https://t.co/525ZvhvGhP\" rel=\"nofollow noopener\" target=\"_blank\" title=\"https://mars.nasa.gov/mars2020/mission/where-is-the-rover/\"><span class=\"tco-ellipsis\"></span><span class=\"invisible\">https://</span><span class=\"js-display-url\">mars.nasa.gov/mars2020/missi</span><span class=\"invisible\">on/where-is-the-rover/</span><span class=\"tco-ellipsis\"><span class=\"invisible\"> </span>…</span></a><a class=\"twitter-timeline-link u-hidden\" data-pre-embedded=\"true\" dir=\"ltr\" href=\"https://t.co/DRHHZpRI3f\">pic.twitter.com/DRHHZpRI3f</a></p>\n",
      "</div>\n"
     ]
    }
   ],
   "source": [
    "# find the lastest tweet con't\n",
    "latest_weather = twitter_soup.find('div', class_='js-tweet-text-container')\n",
    "print(latest_weather)"
   ]
  },
  {
   "cell_type": "code",
   "execution_count": 15,
   "metadata": {},
   "outputs": [
    {
     "data": {
      "text/plain": [
       "'The #Mars2020 rover gets her wheels from the pit crew with PhDs\\nhttps://mars.nasa.gov/mars2020/mission/where-is-the-rover/\\xa0…pic.twitter.com/DRHHZpRI3f'"
      ]
     },
     "execution_count": 15,
     "metadata": {},
     "output_type": "execute_result"
    }
   ],
   "source": [
    "# find the latest tweet con't\n",
    "mars_weather_first = latest_weather.find('p', class_='js-tweet-text').text\n",
    "mars_weather_first"
   ]
  },
  {
   "cell_type": "code",
   "execution_count": 16,
   "metadata": {},
   "outputs": [
    {
     "name": "stdout",
     "output_type": "stream",
     "text": [
      "[<div class=\"js-tweet-text-container\">\n",
      "<p class=\"TweetTextSize TweetTextSize--normal js-tweet-text tweet-text\" data-aria-label-part=\"0\" lang=\"en\">The <a class=\"twitter-hashtag pretty-link js-nav\" data-query-source=\"hashtag_click\" dir=\"ltr\" href=\"/hashtag/Mars2020?src=hash\"><s>#</s><b>Mars2020</b></a> rover gets her wheels from the pit crew with PhDs\n",
      "<a class=\"twitter-timeline-link\" data-expanded-url=\"https://mars.nasa.gov/mars2020/mission/where-is-the-rover/\" dir=\"ltr\" href=\"https://t.co/525ZvhvGhP\" rel=\"nofollow noopener\" target=\"_blank\" title=\"https://mars.nasa.gov/mars2020/mission/where-is-the-rover/\"><span class=\"tco-ellipsis\"></span><span class=\"invisible\">https://</span><span class=\"js-display-url\">mars.nasa.gov/mars2020/missi</span><span class=\"invisible\">on/where-is-the-rover/</span><span class=\"tco-ellipsis\"><span class=\"invisible\"> </span>…</span></a><a class=\"twitter-timeline-link u-hidden\" data-pre-embedded=\"true\" dir=\"ltr\" href=\"https://t.co/DRHHZpRI3f\">pic.twitter.com/DRHHZpRI3f</a></p>\n",
      "</div>, <div class=\"js-tweet-text-container\">\n",
      "<p class=\"TweetTextSize TweetTextSize--normal js-tweet-text tweet-text\" data-aria-label-part=\"0\" lang=\"en\">InSight sol 219 (2019-07-09) low -100.3ºC (-148.5ºF) high -24.9ºC (-12.8ºF)\n",
      "winds from the SE at 4.5 m/s (10.0 mph) gusting to 16.1 m/s (36.1 mph)\n",
      "pressure at 7.60 hPa<a class=\"twitter-timeline-link u-hidden\" data-pre-embedded=\"true\" dir=\"ltr\" href=\"https://t.co/zJkUifSPvt\">pic.twitter.com/zJkUifSPvt</a></p>\n",
      "</div>, <div class=\"js-tweet-text-container\">\n",
      "<p class=\"TweetTextSize TweetTextSize--normal js-tweet-text tweet-text\" data-aria-label-part=\"0\" lang=\"en\">InSight sol 218 (2019-07-08) low -100.2ºC (-148.4ºF) high -26.1ºC (-15.1ºF)\n",
      "winds from the SE at 4.6 m/s (10.2 mph) gusting to 16.0 m/s (35.8 mph)\n",
      "pressure at 7.60 hPa</p>\n",
      "</div>, <div class=\"js-tweet-text-container\">\n",
      "<p class=\"TweetTextSize TweetTextSize--normal js-tweet-text tweet-text\" data-aria-label-part=\"0\" lang=\"en\">InSight sol 216 (2019-07-06) low -102.5ºC (-152.5ºF) high -24.9ºC (-12.8ºF)\n",
      "winds from the SSE at 4.6 m/s (10.2 mph) gusting to 15.8 m/s (35.4 mph)\n",
      "pressure at 7.60 hPa<a class=\"twitter-timeline-link u-hidden\" data-pre-embedded=\"true\" dir=\"ltr\" href=\"https://t.co/fwGott1wRL\">pic.twitter.com/fwGott1wRL</a></p>\n",
      "</div>, <div class=\"js-tweet-text-container\">\n",
      "<p class=\"TweetTextSize TweetTextSize--normal js-tweet-text tweet-text\" data-aria-label-part=\"0\" lang=\"en\">InSight sol 215 (2019-07-05) low -101.7ºC (-151.0ºF) high -25.0ºC (-12.9ºF)\n",
      "winds from the SSE at 4.2 m/s (9.3 mph) gusting to 14.6 m/s (32.6 mph)\n",
      "pressure at 7.60 hPa</p>\n",
      "</div>, <div class=\"js-tweet-text-container\">\n",
      "<p class=\"TweetTextSize TweetTextSize--normal js-tweet-text tweet-text\" data-aria-label-part=\"0\" lang=\"en\">InSight sol 214 (2019-07-04) low -101.2ºC (-150.1ºF) high -24.7ºC (-12.4ºF)\n",
      "winds from the SSE at 4.2 m/s (9.4 mph) gusting to 14.5 m/s (32.4 mph)\n",
      "pressure at 7.60 hPa</p>\n",
      "</div>, <div class=\"js-tweet-text-container\">\n",
      "<p class=\"TweetTextSize TweetTextSize--normal js-tweet-text tweet-text\" data-aria-label-part=\"0\" lang=\"en\">InSight sol 213 (2019-07-03) low -102.1ºC (-151.8ºF) high -25.2ºC (-13.3ºF)\n",
      "winds from the WSW at 4.0 m/s (8.9 mph) gusting to 15.1 m/s (33.8 mph)\n",
      "pressure at 7.60 hPa</p>\n",
      "</div>, <div class=\"js-tweet-text-container\">\n",
      "<p class=\"TweetTextSize TweetTextSize--normal js-tweet-text tweet-text\" data-aria-label-part=\"0\" lang=\"en\">InSight sol 212 (2019-07-02) low -102.1ºC (-151.8ºF) high -24.2ºC (-11.6ºF)\n",
      "winds from the SSE at 4.3 m/s (9.5 mph) gusting to 15.7 m/s (35.2 mph)\n",
      "pressure at 7.60 hPa<a class=\"twitter-timeline-link u-hidden\" data-pre-embedded=\"true\" dir=\"ltr\" href=\"https://t.co/nm8kOX6ed2\">pic.twitter.com/nm8kOX6ed2</a></p>\n",
      "</div>, <div class=\"js-tweet-text-container\">\n",
      "<p class=\"TweetTextSize TweetTextSize--normal js-tweet-text tweet-text\" data-aria-label-part=\"0\" lang=\"en\">InSight sol 211 (2019-07-01) low -101.0ºC (-149.7ºF) high -24.3ºC (-11.8ºF)\n",
      "winds from the SSW at 4.3 m/s (9.7 mph) gusting to 15.4 m/s (34.5 mph)\n",
      "pressure at 7.60 hPa</p>\n",
      "</div>, <div class=\"js-tweet-text-container\">\n",
      "<p class=\"TweetTextSize TweetTextSize--normal js-tweet-text tweet-text\" data-aria-label-part=\"0\" lang=\"en\">InSight sol 210 (2019-06-30) low -101.0ºC (-149.8ºF) high -25.4ºC (-13.7ºF)\n",
      "winds from the SE at 4.4 m/s (9.7 mph) gusting to 15.6 m/s (35.0 mph)\n",
      "pressure at 7.60 hPa</p>\n",
      "</div>, <div class=\"js-tweet-text-container\">\n",
      "<p class=\"TweetTextSize TweetTextSize--normal js-tweet-text tweet-text\" data-aria-label-part=\"0\" lang=\"en\">InSight sol 209 (2019-06-28) low -103.0ºC (-153.4ºF) high -23.7ºC (-10.7ºF)\n",
      "winds from the SSE at 4.3 m/s (9.6 mph) gusting to 15.5 m/s (34.8 mph)\n",
      "pressure at 7.60 hPa</p>\n",
      "</div>, <div class=\"js-tweet-text-container\">\n",
      "<p class=\"TweetTextSize TweetTextSize--normal js-tweet-text tweet-text\" data-aria-label-part=\"0\" lang=\"en\">InSight sol 208 (2019-06-27) low -102.3ºC (-152.2ºF) high -23.7ºC (-10.7ºF)\n",
      "winds from the SSE at 4.3 m/s (9.7 mph) gusting to 15.4 m/s (34.5 mph)\n",
      "pressure at 7.60 hPa</p>\n",
      "</div>, <div class=\"js-tweet-text-container\">\n",
      "<p class=\"TweetTextSize TweetTextSize--normal js-tweet-text tweet-text\" data-aria-label-part=\"0\" lang=\"en\">InSight sol 207 (2019-06-26) low -103.9ºC (-155.1ºF) high -25.0ºC (-12.9ºF)\n",
      "winds from the SE at 4.3 m/s (9.5 mph) gusting to 15.8 m/s (35.4 mph)\n",
      "pressure at 7.60 hPa</p>\n",
      "</div>, <div class=\"js-tweet-text-container\">\n",
      "<p class=\"TweetTextSize TweetTextSize--normal js-tweet-text tweet-text\" data-aria-label-part=\"0\" lang=\"en\">Long before the National Weather Service or NASA, Thomas Jefferson diligently recorded weather observations four times each day. From his notes while in Philadelphia, July 1776: <a class=\"twitter-timeline-link\" data-expanded-url=\"https://www.monticello.org/site/research-and-collections/weather-observations\" dir=\"ltr\" href=\"https://t.co/ZysM6325vc\" rel=\"nofollow noopener\" target=\"_blank\" title=\"https://www.monticello.org/site/research-and-collections/weather-observations\"><span class=\"tco-ellipsis\"></span><span class=\"invisible\">https://www.</span><span class=\"js-display-url\">monticello.org/site/research-</span><span class=\"invisible\">and-collections/weather-observations</span><span class=\"tco-ellipsis\"><span class=\"invisible\"> </span>…</span></a><a class=\"twitter-timeline-link u-hidden\" data-pre-embedded=\"true\" dir=\"ltr\" href=\"https://t.co/Jt37JdK8Ch\">pic.twitter.com/Jt37JdK8Ch</a></p>\n",
      "</div>, <div class=\"js-tweet-text-container\">\n",
      "<p class=\"TweetTextSize TweetTextSize--normal js-tweet-text tweet-text\" data-aria-label-part=\"0\" lang=\"en\">InSight sol 206 (2019-06-25) low -103.5ºC (-154.2ºF) high -25.3ºC (-13.5ºF)\n",
      "winds from the SE at 4.3 m/s (9.6 mph) gusting to 15.6 m/s (34.8 mph)\n",
      "pressure at 7.60 hPa<a class=\"twitter-timeline-link u-hidden\" data-pre-embedded=\"true\" dir=\"ltr\" href=\"https://t.co/lqcwvVG0c9\">pic.twitter.com/lqcwvVG0c9</a></p>\n",
      "</div>, <div class=\"js-tweet-text-container\">\n",
      "<p class=\"TweetTextSize TweetTextSize--normal js-tweet-text tweet-text\" data-aria-label-part=\"0\" lang=\"en\">InSight sol 205 (2019-06-24) low -103.9ºC (-155.1ºF) high -24.9ºC (-12.8ºF)\n",
      "winds from the SSE at 4.3 m/s (9.7 mph) gusting to 15.9 m/s (35.5 mph)\n",
      "pressure at 7.60 hPa</p>\n",
      "</div>, <div class=\"js-tweet-text-container\">\n",
      "<p class=\"TweetTextSize TweetTextSize--normal js-tweet-text tweet-text\" data-aria-label-part=\"0\" lang=\"en\">InSight sol 204 (2019-06-23) low -104.1ºC (-155.5ºF) high -25.3ºC (-13.6ºF)\n",
      "winds from the W at 4.3 m/s (9.6 mph) gusting to 15.3 m/s (34.1 mph)\n",
      "pressure at 7.60 hPa</p>\n",
      "</div>, <div class=\"js-tweet-text-container\">\n",
      "<p class=\"TweetTextSize TweetTextSize--normal js-tweet-text tweet-text\" data-aria-label-part=\"0\" lang=\"en\">InSight sol 203 (2019-06-22) low -104.0ºC (-155.2ºF) high -25.7ºC (-14.3ºF)\n",
      "winds from the SSE at 4.0 m/s (8.9 mph) gusting to 14.6 m/s (32.6 mph)\n",
      "pressure at 7.60 hPa</p>\n",
      "</div>, <div class=\"js-tweet-text-container\">\n",
      "<p class=\"TweetTextSize TweetTextSize--normal js-tweet-text tweet-text\" data-aria-label-part=\"0\" lang=\"en\">InSight sol 202 (2019-06-21) low -103.3ºC (-154.0ºF) high -24.4ºC (-11.8ºF)\n",
      "winds from the SSE at 4.4 m/s (9.8 mph) gusting to 15.4 m/s (34.4 mph)\n",
      "pressure at 7.60 hPa</p>\n",
      "</div>, <div class=\"js-tweet-text-container\">\n",
      "<p class=\"TweetTextSize TweetTextSize--normal js-tweet-text tweet-text\" data-aria-label-part=\"0\" lang=\"en\">InSight sol 201 (2019-06-20) low -103.3ºC (-153.9ºF) high -24.0ºC (-11.2ºF)\n",
      "winds from the SSE at 4.2 m/s (9.5 mph) gusting to 16.1 m/s (36.0 mph)\n",
      "pressure at 7.60 hPa</p>\n",
      "</div>]\n"
     ]
    }
   ],
   "source": [
    "# the lastest tweet did not contain weather data so find all the tweets\n",
    "latest_weather_all = twitter_soup.find_all('div', class_='js-tweet-text-container')\n",
    "print(latest_weather_all)"
   ]
  },
  {
   "cell_type": "code",
   "execution_count": 17,
   "metadata": {},
   "outputs": [
    {
     "data": {
      "text/plain": [
       "['The #Mars2020 rover gets her wheels from the pit crew with PhDs\\nhttps://mars.nasa.gov/mars2020/mission/where-is-the-rover/\\xa0…pic.twitter.com/DRHHZpRI3f',\n",
       " 'InSight sol 219 (2019-07-09) low -100.3ºC (-148.5ºF) high -24.9ºC (-12.8ºF)\\nwinds from the SE at 4.5 m/s (10.0 mph) gusting to 16.1 m/s (36.1 mph)\\npressure at 7.60 hPapic.twitter.com/zJkUifSPvt',\n",
       " 'InSight sol 218 (2019-07-08) low -100.2ºC (-148.4ºF) high -26.1ºC (-15.1ºF)\\nwinds from the SE at 4.6 m/s (10.2 mph) gusting to 16.0 m/s (35.8 mph)\\npressure at 7.60 hPa',\n",
       " 'InSight sol 216 (2019-07-06) low -102.5ºC (-152.5ºF) high -24.9ºC (-12.8ºF)\\nwinds from the SSE at 4.6 m/s (10.2 mph) gusting to 15.8 m/s (35.4 mph)\\npressure at 7.60 hPapic.twitter.com/fwGott1wRL',\n",
       " 'InSight sol 215 (2019-07-05) low -101.7ºC (-151.0ºF) high -25.0ºC (-12.9ºF)\\nwinds from the SSE at 4.2 m/s (9.3 mph) gusting to 14.6 m/s (32.6 mph)\\npressure at 7.60 hPa',\n",
       " 'InSight sol 214 (2019-07-04) low -101.2ºC (-150.1ºF) high -24.7ºC (-12.4ºF)\\nwinds from the SSE at 4.2 m/s (9.4 mph) gusting to 14.5 m/s (32.4 mph)\\npressure at 7.60 hPa',\n",
       " 'InSight sol 213 (2019-07-03) low -102.1ºC (-151.8ºF) high -25.2ºC (-13.3ºF)\\nwinds from the WSW at 4.0 m/s (8.9 mph) gusting to 15.1 m/s (33.8 mph)\\npressure at 7.60 hPa',\n",
       " 'InSight sol 212 (2019-07-02) low -102.1ºC (-151.8ºF) high -24.2ºC (-11.6ºF)\\nwinds from the SSE at 4.3 m/s (9.5 mph) gusting to 15.7 m/s (35.2 mph)\\npressure at 7.60 hPapic.twitter.com/nm8kOX6ed2',\n",
       " 'InSight sol 211 (2019-07-01) low -101.0ºC (-149.7ºF) high -24.3ºC (-11.8ºF)\\nwinds from the SSW at 4.3 m/s (9.7 mph) gusting to 15.4 m/s (34.5 mph)\\npressure at 7.60 hPa',\n",
       " 'InSight sol 210 (2019-06-30) low -101.0ºC (-149.8ºF) high -25.4ºC (-13.7ºF)\\nwinds from the SE at 4.4 m/s (9.7 mph) gusting to 15.6 m/s (35.0 mph)\\npressure at 7.60 hPa',\n",
       " 'InSight sol 209 (2019-06-28) low -103.0ºC (-153.4ºF) high -23.7ºC (-10.7ºF)\\nwinds from the SSE at 4.3 m/s (9.6 mph) gusting to 15.5 m/s (34.8 mph)\\npressure at 7.60 hPa',\n",
       " 'InSight sol 208 (2019-06-27) low -102.3ºC (-152.2ºF) high -23.7ºC (-10.7ºF)\\nwinds from the SSE at 4.3 m/s (9.7 mph) gusting to 15.4 m/s (34.5 mph)\\npressure at 7.60 hPa',\n",
       " 'InSight sol 207 (2019-06-26) low -103.9ºC (-155.1ºF) high -25.0ºC (-12.9ºF)\\nwinds from the SE at 4.3 m/s (9.5 mph) gusting to 15.8 m/s (35.4 mph)\\npressure at 7.60 hPa',\n",
       " 'Long before the National Weather Service or NASA, Thomas Jefferson diligently recorded weather observations four times each day. From his notes while in Philadelphia, July 1776: https://www.monticello.org/site/research-and-collections/weather-observations\\xa0…pic.twitter.com/Jt37JdK8Ch',\n",
       " 'InSight sol 206 (2019-06-25) low -103.5ºC (-154.2ºF) high -25.3ºC (-13.5ºF)\\nwinds from the SE at 4.3 m/s (9.6 mph) gusting to 15.6 m/s (34.8 mph)\\npressure at 7.60 hPapic.twitter.com/lqcwvVG0c9',\n",
       " 'InSight sol 205 (2019-06-24) low -103.9ºC (-155.1ºF) high -24.9ºC (-12.8ºF)\\nwinds from the SSE at 4.3 m/s (9.7 mph) gusting to 15.9 m/s (35.5 mph)\\npressure at 7.60 hPa',\n",
       " 'InSight sol 204 (2019-06-23) low -104.1ºC (-155.5ºF) high -25.3ºC (-13.6ºF)\\nwinds from the W at 4.3 m/s (9.6 mph) gusting to 15.3 m/s (34.1 mph)\\npressure at 7.60 hPa',\n",
       " 'InSight sol 203 (2019-06-22) low -104.0ºC (-155.2ºF) high -25.7ºC (-14.3ºF)\\nwinds from the SSE at 4.0 m/s (8.9 mph) gusting to 14.6 m/s (32.6 mph)\\npressure at 7.60 hPa',\n",
       " 'InSight sol 202 (2019-06-21) low -103.3ºC (-154.0ºF) high -24.4ºC (-11.8ºF)\\nwinds from the SSE at 4.4 m/s (9.8 mph) gusting to 15.4 m/s (34.4 mph)\\npressure at 7.60 hPa',\n",
       " 'InSight sol 201 (2019-06-20) low -103.3ºC (-153.9ºF) high -24.0ºC (-11.2ºF)\\nwinds from the SSE at 4.2 m/s (9.5 mph) gusting to 16.1 m/s (36.0 mph)\\npressure at 7.60 hPa']"
      ]
     },
     "execution_count": 17,
     "metadata": {},
     "output_type": "execute_result"
    }
   ],
   "source": [
    "# make a list of all tweets and store in a list\n",
    "weather_list = []\n",
    "for weather in latest_weather_all:\n",
    "    mars_weather = weather.find('p', class_='js-tweet-text').text\n",
    "    weather_list.append(mars_weather)\n",
    "    \n",
    "weather_list"
   ]
  },
  {
   "cell_type": "code",
   "execution_count": 18,
   "metadata": {},
   "outputs": [],
   "source": [
    "# this is the lasest weather related tweet\n",
    "#print(weather_list[1])"
   ]
  },
  {
   "cell_type": "code",
   "execution_count": 19,
   "metadata": {},
   "outputs": [
    {
     "data": {
      "text/plain": [
       "'InSight sol 219 (2019-07-09) low -100.3ºC (-148.5ºF) high -24.9ºC (-12.8ºF)\\nwinds from the SE at 4.5 m/s (10.0 mph) gusting to 16.1 m/s (36.1 mph)\\npressure at 7.60 hPapic.twitter.com/zJkUifSPvt'"
      ]
     },
     "execution_count": 19,
     "metadata": {},
     "output_type": "execute_result"
    }
   ],
   "source": [
    "#list comprehesion to search the list for the first weather related tweet\n",
    "mars_weather = [x for x in weather_list if 'InSight' in x][0]\n",
    "mars_weather"
   ]
  },
  {
   "cell_type": "markdown",
   "metadata": {},
   "source": [
    "## Mars Facts"
   ]
  },
  {
   "cell_type": "code",
   "execution_count": 20,
   "metadata": {},
   "outputs": [
    {
     "data": {
      "text/plain": [
       "[  Mars - Earth Comparison             Mars            Earth\n",
       " 0               Diameter:         6,779 km        12,742 km\n",
       " 1                   Mass:  6.39 × 10^23 kg  5.97 × 10^24 kg\n",
       " 2                  Moons:                2                1\n",
       " 3      Distance from Sun:   227,943,824 km   149,598,262 km\n",
       " 4         Length of Year:   687 Earth days      365.24 days\n",
       " 5            Temperature:    -153 to 20 °C      -88 to 58°C,\n",
       "                       0                              1\n",
       " 0  Equatorial Diameter:                       6,792 km\n",
       " 1       Polar Diameter:                       6,752 km\n",
       " 2                 Mass:  6.39 × 10^23 kg (0.11 Earths)\n",
       " 3                Moons:            2 (Phobos & Deimos)\n",
       " 4       Orbit Distance:       227,943,824 km (1.38 AU)\n",
       " 5         Orbit Period:           687 days (1.9 years)\n",
       " 6  Surface Temperature:                   -87 to -5 °C\n",
       " 7         First Record:              2nd millennium BC\n",
       " 8          Recorded By:           Egyptian astronomers]"
      ]
     },
     "execution_count": 20,
     "metadata": {},
     "output_type": "execute_result"
    }
   ],
   "source": [
    "# * Visit the Mars Facts webpage [here](https://space-facts.com/mars/) and use Pandas to scrape the table containing facts about the planet including Diameter, Mass, etc.\n",
    "# * Use Pandas to convert the data to a HTML table string.\n",
    "mars_facts_url = 'https://space-facts.com/mars/'\n",
    "mars_facts_tables = pd.read_html(mars_facts_url)\n",
    "mars_facts_tables"
   ]
  },
  {
   "cell_type": "code",
   "execution_count": 21,
   "metadata": {},
   "outputs": [
    {
     "data": {
      "text/html": [
       "<div>\n",
       "<style scoped>\n",
       "    .dataframe tbody tr th:only-of-type {\n",
       "        vertical-align: middle;\n",
       "    }\n",
       "\n",
       "    .dataframe tbody tr th {\n",
       "        vertical-align: top;\n",
       "    }\n",
       "\n",
       "    .dataframe thead th {\n",
       "        text-align: right;\n",
       "    }\n",
       "</style>\n",
       "<table border=\"1\" class=\"dataframe\">\n",
       "  <thead>\n",
       "    <tr style=\"text-align: right;\">\n",
       "      <th></th>\n",
       "      <th>Value</th>\n",
       "    </tr>\n",
       "    <tr>\n",
       "      <th>Description</th>\n",
       "      <th></th>\n",
       "    </tr>\n",
       "  </thead>\n",
       "  <tbody>\n",
       "    <tr>\n",
       "      <th>Equatorial Diameter:</th>\n",
       "      <td>6,792 km</td>\n",
       "    </tr>\n",
       "    <tr>\n",
       "      <th>Polar Diameter:</th>\n",
       "      <td>6,752 km</td>\n",
       "    </tr>\n",
       "    <tr>\n",
       "      <th>Mass:</th>\n",
       "      <td>6.39 × 10^23 kg (0.11 Earths)</td>\n",
       "    </tr>\n",
       "    <tr>\n",
       "      <th>Moons:</th>\n",
       "      <td>2 (Phobos &amp; Deimos)</td>\n",
       "    </tr>\n",
       "    <tr>\n",
       "      <th>Orbit Distance:</th>\n",
       "      <td>227,943,824 km (1.38 AU)</td>\n",
       "    </tr>\n",
       "    <tr>\n",
       "      <th>Orbit Period:</th>\n",
       "      <td>687 days (1.9 years)</td>\n",
       "    </tr>\n",
       "    <tr>\n",
       "      <th>Surface Temperature:</th>\n",
       "      <td>-87 to -5 °C</td>\n",
       "    </tr>\n",
       "    <tr>\n",
       "      <th>First Record:</th>\n",
       "      <td>2nd millennium BC</td>\n",
       "    </tr>\n",
       "    <tr>\n",
       "      <th>Recorded By:</th>\n",
       "      <td>Egyptian astronomers</td>\n",
       "    </tr>\n",
       "  </tbody>\n",
       "</table>\n",
       "</div>"
      ],
      "text/plain": [
       "                                              Value\n",
       "Description                                        \n",
       "Equatorial Diameter:                       6,792 km\n",
       "Polar Diameter:                            6,752 km\n",
       "Mass:                 6.39 × 10^23 kg (0.11 Earths)\n",
       "Moons:                          2 (Phobos & Deimos)\n",
       "Orbit Distance:            227,943,824 km (1.38 AU)\n",
       "Orbit Period:                  687 days (1.9 years)\n",
       "Surface Temperature:                   -87 to -5 °C\n",
       "First Record:                     2nd millennium BC\n",
       "Recorded By:                   Egyptian astronomers"
      ]
     },
     "execution_count": 21,
     "metadata": {},
     "output_type": "execute_result"
    }
   ],
   "source": [
    "# select the second table, set the column headers, reset index to 'Description'\n",
    "mars_facts_tables_df = mars_facts_tables[1]\n",
    "mars_facts_tables_df.columns = ['Description', 'Value']\n",
    "mars_facts_tables_df.set_index('Description', inplace=True)\n",
    "mars_facts_tables_df"
   ]
  },
  {
   "cell_type": "code",
   "execution_count": 22,
   "metadata": {},
   "outputs": [],
   "source": [
    "# export an html file of mars facts\n",
    "mars_facts = mars_facts_tables_df.to_html('mars_facts.html')\n",
    "mars_facts"
   ]
  },
  {
   "cell_type": "markdown",
   "metadata": {},
   "source": [
    "## Mars Hemisphere Images"
   ]
  },
  {
   "cell_type": "code",
   "execution_count": 23,
   "metadata": {},
   "outputs": [],
   "source": [
    "# * Visit the USGS Astrogeology site [here](https://astrogeology.usgs.gov/search/results?q=hemisphere+enhanced&k1=target&v1=Mars) to obtain high resolution images for each of Mars' hemispheres.\n",
    "# * You will need to click each of the links to the hemispheres in order to find the image url to the full resolution image.\n",
    "# * Save both the image url string for the full resolution hemisphere image, and the Hemisphere title containing the hemisphere name. Use a Python dictionary to store the data using the keys `img_url` and `title`.\n",
    "# * Append the dictionary with the image url string and the hemisphere title to a list. This list will contain one dictionary for each hemisphere.\n",
    "\n",
    "mars_hemisphere_url = 'https://astrogeology.usgs.gov/search/results?q=hemisphere+enhanced&k1=target&v1=Mars'\n",
    "browser.visit(mars_hemisphere_url)\n",
    "mars_hemisphere_html = browser.html\n",
    "mars_hemisphere_soup = bs(mars_hemisphere_html, 'lxml')\n",
    "\n",
    "\n",
    "list_of_mars_hemispheres = mars_hemisphere_soup.find_all('div', class_='item')\n",
    "#print(list_of_mars_hemispheres)"
   ]
  },
  {
   "cell_type": "code",
   "execution_count": 24,
   "metadata": {},
   "outputs": [
    {
     "data": {
      "text/plain": [
       "[{'title': 'Cerberus Hemisphere Enhanced',\n",
       "  'img_url': 'http://astropedia.astrogeology.usgs.gov/download/Mars/Viking/cerberus_enhanced.tif/full.jpg'},\n",
       " {'title': 'Schiaparelli Hemisphere Enhanced',\n",
       "  'img_url': 'http://astropedia.astrogeology.usgs.gov/download/Mars/Viking/schiaparelli_enhanced.tif/full.jpg'},\n",
       " {'title': 'Syrtis Major Hemisphere Enhanced',\n",
       "  'img_url': 'http://astropedia.astrogeology.usgs.gov/download/Mars/Viking/syrtis_major_enhanced.tif/full.jpg'},\n",
       " {'title': 'Valles Marineris Hemisphere Enhanced',\n",
       "  'img_url': 'http://astropedia.astrogeology.usgs.gov/download/Mars/Viking/valles_marineris_enhanced.tif/full.jpg'}]"
      ]
     },
     "execution_count": 24,
     "metadata": {},
     "output_type": "execute_result"
    }
   ],
   "source": [
    "# list to store all dictionary data\n",
    "mars_hemisphere_image_urls = []\n",
    "\n",
    "#loop through images and click high res image\n",
    "base_url = 'https://astrogeology.usgs.gov'\n",
    "\n",
    "for image in list_of_mars_hemispheres:\n",
    "    hemi_dict = {}\n",
    "    mars_image_hemi = image.find('a', class_='itemLink product-item')\n",
    "    link = base_url + mars_image_hemi['href']\n",
    "    browser.visit(link)\n",
    "    \n",
    "    #pause execution for 1 second to prevent errors\n",
    "    time.sleep(1)\n",
    "    \n",
    "    #print(link)\n",
    "    \n",
    "    mars_hemisphere_html_loop = browser.html\n",
    "    mars_hemisphere_html_loop_soup = bs(mars_hemisphere_html_loop, 'lxml')\n",
    "    \n",
    "    #collect image titles\n",
    "    image_title = mars_hemisphere_html_loop_soup.find('div', class_='content').find('h2', class_='title').text\n",
    "    #print(image_title)\n",
    "    #save as dictionary with key 'title'\n",
    "    hemi_dict['title'] = image_title\n",
    "    \n",
    "    #collect image links to high res images\n",
    "    image_link = mars_hemisphere_html_loop_soup.find('div', class_='downloads').find('a')['href']\n",
    "    #print(image_link)\n",
    "    #save as dictionary with key 'img_url'\n",
    "    hemi_dict['img_url'] = image_link   \n",
    "    \n",
    "    # append dictionaries to list\n",
    "    mars_hemisphere_image_urls.append(hemi_dict)\n",
    "    \n",
    "mars_hemisphere_image_urls    "
   ]
  },
  {
   "cell_type": "code",
   "execution_count": null,
   "metadata": {},
   "outputs": [],
   "source": []
  }
 ],
 "metadata": {
  "kernelspec": {
   "display_name": "Python [conda env:PythonData] *",
   "language": "python",
   "name": "conda-env-PythonData-py"
  },
  "language_info": {
   "codemirror_mode": {
    "name": "ipython",
    "version": 3
   },
   "file_extension": ".py",
   "mimetype": "text/x-python",
   "name": "python",
   "nbconvert_exporter": "python",
   "pygments_lexer": "ipython3",
   "version": "3.6.8"
  }
 },
 "nbformat": 4,
 "nbformat_minor": 2
}
